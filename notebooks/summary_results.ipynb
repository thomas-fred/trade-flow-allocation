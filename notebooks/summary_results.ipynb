{
 "cells": [
  {
   "cell_type": "code",
   "execution_count": 2,
   "id": "108b54a6-4141-4ab2-9850-ad5925ebce25",
   "metadata": {},
   "outputs": [],
   "source": [
    "import matplotlib.pyplot as plt\n",
    "import matplotlib\n",
    "import pandas as pd\n",
    "import numpy as np\n",
    "\n",
    "plt.style.use(\"bmh\")"
   ]
  },
  {
   "cell_type": "code",
   "execution_count": null,
   "id": "23bf0d1f-9f84-490b-969f-db57d74a0628",
   "metadata": {},
   "outputs": [],
   "source": [
    "column_names = [                 \"This work\", \"PDNA\", \"This work [-err]\", \"This work [+err]\", \"PDNA [-err]\", \"PDNA [+err]\"]\n",
    "data = {\n",
    "    \"Power\": [                           660,     80,                  0,                  0,             0,             0],\n",
    "    \"Road\": [                           1200,    644,         1200 - 440,        3000 - 1200,             0,             0],\n",
    "    \"Rail\": [                           1400,     98,         1400 - 490,        3600 - 1400,             0,             0],\n",
    "    \"Built cap. (res.)\": [             15500, np.nan,                  0,                  0,             0,             0],\n",
    "    \"Built cap. (non-res.)\": [         40900, np.nan,                  0,                  0,             0,             0],\n",
    "    \"Total recon. estimate\": [        np.nan,  50000,                  0,                  0,             0,             0],\n",
    "    \"\": [                                  0,      0,                  0,                  0,             0,             0],\n",
    "    \"Business (ag.)\": [   135 * (1/12 * 164),   1100,  45 * (1/12 * 164),  45 * (1/12 * 164),             0,             0],\n",
    "    \"Business (manu.)\": [135 * (10/12 * 164),  16200, 45 * (10/12 * 164), 45 * (10/12 * 164),             0,             0],\n",
    "    \"Trade\": [                     135 * 220,   7900,           45 * 220,           45 * 220,             0,             0],\n",
    "}\n",
    "df = pd.DataFrame(data=data, index=column_names).T\n",
    "# required error shape is (2, 2, 10)\n",
    "# that is...     ((This work, PDNA), (min, max), (quantity0, quantity2, ..., quantity9))\n",
    "# there is probably a better way to assemble the error array\n",
    "# ... sorry\n",
    "errors = np.hstack(\n",
    "    [\n",
    "        df.loc[:, [\"This work [-err]\", \"PDNA [-err]\"]].values.T[:, np.newaxis],\n",
    "        df.loc[:, [\"This work [+err]\", \"PDNA [+err]\"]].values.T[:, np.newaxis]\n",
    "    ]\n",
    ")\n",
    "f, ax = plt.subplots(figsize=(7,4))\n",
    "df.loc[:, [\"This work\", \"PDNA\"]].plot.barh(\n",
    "    ax=ax,\n",
    "    xerr=errors\n",
    ")\n",
    "handles, labels = ax.get_legend_handles_labels()\n",
    "# reverse order of legend entries to correspond with bars\n",
    "ax.legend(handles[::-1], labels[::-1], title=\"\", loc=\"lower right\")\n",
    "ax.set_xlabel(r\"Cost [10$^{6}$ USD]\")\n",
    "ax.set_ylabel(\"\")\n",
    "ax.text(-0.4, 0.75, \"Indirect\", rotation=90, transform=ax.transAxes, size=14)\n",
    "ax.text(-0.4, 0.23, \"Direct\", rotation=90, transform=ax.transAxes, size=14)\n",
    "#ax.set_xlim(0, 4000)\n",
    "#plt.tight_layout()\n",
    "plt.subplots_adjust(left=-1, right=1)\n",
    "f.savefig(\"plots/summary.png\")"
   ]
  }
 ],
 "metadata": {
  "kernelspec": {
   "display_name": "Python 3 (ipykernel)",
   "language": "python",
   "name": "python3"
  },
  "language_info": {
   "codemirror_mode": {
    "name": "ipython",
    "version": 3
   },
   "file_extension": ".py",
   "mimetype": "text/x-python",
   "name": "python",
   "nbconvert_exporter": "python",
   "pygments_lexer": "ipython3",
   "version": "3.10.14"
  }
 },
 "nbformat": 4,
 "nbformat_minor": 5
}
