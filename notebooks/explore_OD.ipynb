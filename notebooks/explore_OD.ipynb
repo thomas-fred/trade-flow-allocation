{
 "cells": [
  {
   "cell_type": "code",
   "execution_count": 1,
   "id": "1a292da3-b0b0-492e-b207-e88956e68e71",
   "metadata": {},
   "outputs": [],
   "source": [
    "import os\n",
    "\n",
    "import geopandas as gpd\n",
    "import networkx as nx\n",
    "import numpy as np\n",
    "import matplotlib\n",
    "import matplotlib.pyplot as plt\n",
    "import pandas as pd\n",
    "from tqdm import tqdm"
   ]
  },
  {
   "cell_type": "code",
   "execution_count": 2,
   "id": "c007561c-c7f0-46f5-a8c4-57aa4e7540a3",
   "metadata": {},
   "outputs": [],
   "source": [
    "def year_to_day(df: pd.DataFrame, cols=(\"value_kusd\", \"volume_tons\")) -> pd.DataFrame:\n",
    "    for col in cols:\n",
    "        if col in df.columns:\n",
    "            df[col] /= 365.24\n",
    "    return df"
   ]
  },
  {
   "cell_type": "code",
   "execution_count": 3,
   "id": "7761da2c-255d-4583-baea-b4dba7e4c4e6",
   "metadata": {},
   "outputs": [
    {
     "name": "stdout",
     "output_type": "stream",
     "text": [
      "OD has 21,431,475 flows\n"
     ]
    }
   ],
   "source": [
    "plt.style.use(\"bmh\")\n",
    "\n",
    "# read in trade OD matrix\n",
    "\n",
    "root_dir = \"..\"\n",
    "\n",
    "od_dir = os.path.join(root_dir, \"results/input/trade_matrix/project-thailand/\")\n",
    "od = year_to_day(pd.read_parquet(os.path.join(od_dir, \"trade_nodes_total.parquet\")))\n",
    "print(f\"OD has {len(od):,d} flows\")\n",
    "\n",
    "# read in edges and filter out OD flows we certainly can't route to\n",
    "edges = gpd.read_parquet(os.path.join(root_dir, \"results/multi-modal_network/project-thailand/edges.gpq\"))\n",
    "available_destinations = edges[edges[\"mode\"] == \"imaginary\"].to_id.unique()\n",
    "available_country_destinations = [d.split(\"_\")[-1] for d in available_destinations if d.startswith(\"GID_\")]\n",
    "\n",
    "# read nodes to plot where these flows are related to in THA\n",
    "nodes = gpd.read_parquet(os.path.join(root_dir, \"results/multi-modal_network/project-thailand/nodes.gpq\"))"
   ]
  },
  {
   "cell_type": "code",
   "execution_count": 4,
   "id": "259ebb54-a2c7-48be-b2b9-b5d2f4f20c1e",
   "metadata": {},
   "outputs": [
    {
     "name": "stdout",
     "output_type": "stream",
     "text": [
      "od.volume_tons.sum()=910599.3023051104\n",
      "od.value_kusd.sum()=1631323.1622220995\n"
     ]
    }
   ],
   "source": [
    "print(f\"{od.volume_tons.sum()=}\")\n",
    "print(f\"{od.value_kusd.sum()=}\")"
   ]
  },
  {
   "cell_type": "code",
   "execution_count": 5,
   "id": "c012bb04-2495-4e1b-80c6-3ffca736ae04",
   "metadata": {},
   "outputs": [],
   "source": [
    "# country boundaries for diagnostic plotting\n",
    "countries = gpd.read_parquet(os.path.join(root_dir, \"results/input/admin-boundaries/admin-level-0.geoparquet\"))\n",
    "boundaries = countries.copy()\n",
    "boundaries.geometry = boundaries.geometry.boundary"
   ]
  },
  {
   "cell_type": "code",
   "execution_count": 6,
   "id": "90954739-861f-49bd-bd4a-3c2044182b5e",
   "metadata": {},
   "outputs": [],
   "source": [
    "country_volume_total = od.loc[:, [\"partner_GID_0\", \"volume_tons\"]].groupby(\"partner_GID_0\").sum()\n",
    "country_volume_total.index.name = \"GID_0\""
   ]
  },
  {
   "cell_type": "code",
   "execution_count": null,
   "id": "4fffd59a-b1cf-4fc0-ae7d-826ff63ab0b6",
   "metadata": {},
   "outputs": [],
   "source": [
    "f, ax = plt.subplots(figsize=(14, 7))\n",
    "to_plot = countries.set_index(\"GID_0\").join(country_volume_total)\n",
    "cmap = plt.get_cmap(\"magma_r\")\n",
    "to_plot.plot(\n",
    "    \"volume_tons\",\n",
    "    ax=ax,\n",
    "    cmap=cmap,\n",
    "    legend=True,\n",
    "    norm=matplotlib.colors.LogNorm(\n",
    "        vmin=to_plot.volume_tons.max(),\n",
    "        vmax=1E2\n",
    "    ),\n",
    "    legend_kwds={\n",
    "        \"shrink\": 0.6,\n",
    "        \"label\": \"Flow volume [t/d]\"\n",
    "    },\n",
    ")\n",
    "ax.set_xticks(np.linspace(-180, 180, 13))\n",
    "ax.set_yticks([-60, -30, 0, 30, 60])\n",
    "ax.set_ylim(-65, 85)\n",
    "ax.set_xlim(-180, 180)\n",
    "ax.grid(alpha=0.3)\n",
    "ax.set_xlabel(\"Longitude [deg]\")\n",
    "ax.set_ylabel(\"Latitude [deg]\")\n",
    "f.savefig(\"od_countries_log.png\")"
   ]
  },
  {
   "cell_type": "code",
   "execution_count": 18,
   "id": "58d48991-6270-4691-ae08-53e7bd723482",
   "metadata": {},
   "outputs": [
    {
     "data": {
      "text/plain": [
       "0.08432376387320474"
      ]
     },
     "execution_count": 18,
     "metadata": {},
     "output_type": "execute_result"
    }
   ],
   "source": [
    "non_zero_od = od[od.volume_tons != 0]\n",
    "non_zero_od.volume_tons.quantile(0.95)"
   ]
  },
  {
   "cell_type": "code",
   "execution_count": 21,
   "id": "4bb44506-64b0-4cc4-82ad-af4b86619548",
   "metadata": {},
   "outputs": [
    {
     "data": {
      "text/html": [
       "<div>\n",
       "<style scoped>\n",
       "    .dataframe tbody tr th:only-of-type {\n",
       "        vertical-align: middle;\n",
       "    }\n",
       "\n",
       "    .dataframe tbody tr th {\n",
       "        vertical-align: top;\n",
       "    }\n",
       "\n",
       "    .dataframe thead th {\n",
       "        text-align: right;\n",
       "    }\n",
       "</style>\n",
       "<table border=\"1\" class=\"dataframe\">\n",
       "  <thead>\n",
       "    <tr style=\"text-align: right;\">\n",
       "      <th></th>\n",
       "      <th>iso_a3</th>\n",
       "      <th>geometry</th>\n",
       "      <th>volume_tons</th>\n",
       "    </tr>\n",
       "  </thead>\n",
       "  <tbody>\n",
       "    <tr>\n",
       "      <th>road_thailand-latest_6_0</th>\n",
       "      <td>THA</td>\n",
       "      <td>POINT (97.93672 18.57421)</td>\n",
       "      <td>0.003367</td>\n",
       "    </tr>\n",
       "    <tr>\n",
       "      <th>road_thailand-latest_6_2</th>\n",
       "      <td>THA</td>\n",
       "      <td>POINT (98.01296 18.34611)</td>\n",
       "      <td>0.004907</td>\n",
       "    </tr>\n",
       "    <tr>\n",
       "      <th>road_thailand-latest_6_3</th>\n",
       "      <td>THA</td>\n",
       "      <td>POINT (97.98290 18.34809)</td>\n",
       "      <td>0.035866</td>\n",
       "    </tr>\n",
       "    <tr>\n",
       "      <th>road_thailand-latest_6_4</th>\n",
       "      <td>THA</td>\n",
       "      <td>POINT (98.04236 18.35748)</td>\n",
       "      <td>0.000421</td>\n",
       "    </tr>\n",
       "    <tr>\n",
       "      <th>road_thailand-latest_6_5</th>\n",
       "      <td>THA</td>\n",
       "      <td>POINT (98.01851 18.34401)</td>\n",
       "      <td>0.107342</td>\n",
       "    </tr>\n",
       "    <tr>\n",
       "      <th>...</th>\n",
       "      <td>...</td>\n",
       "      <td>...</td>\n",
       "      <td>...</td>\n",
       "    </tr>\n",
       "    <tr>\n",
       "      <th>road_malaysia-latest_14_418</th>\n",
       "      <td>THA</td>\n",
       "      <td>POINT (102.03692 6.11206)</td>\n",
       "      <td>0.539234</td>\n",
       "    </tr>\n",
       "    <tr>\n",
       "      <th>road_malaysia-latest_14_487</th>\n",
       "      <td>THA</td>\n",
       "      <td>POINT (101.97540 6.03242)</td>\n",
       "      <td>1.408785</td>\n",
       "    </tr>\n",
       "    <tr>\n",
       "      <th>road_malaysia-latest_14_488</th>\n",
       "      <td>THA</td>\n",
       "      <td>POINT (101.97448 6.02301)</td>\n",
       "      <td>0.060977</td>\n",
       "    </tr>\n",
       "    <tr>\n",
       "      <th>road_malaysia-latest_14_489</th>\n",
       "      <td>THA</td>\n",
       "      <td>POINT (101.97454 6.02295)</td>\n",
       "      <td>0.043985</td>\n",
       "    </tr>\n",
       "    <tr>\n",
       "      <th>road_malaysia-latest_14_680</th>\n",
       "      <td>THA</td>\n",
       "      <td>POINT (101.97344 6.02353)</td>\n",
       "      <td>0.015420</td>\n",
       "    </tr>\n",
       "  </tbody>\n",
       "</table>\n",
       "<p>71307 rows × 3 columns</p>\n",
       "</div>"
      ],
      "text/plain": [
       "                            iso_a3                   geometry  volume_tons\n",
       "road_thailand-latest_6_0       THA  POINT (97.93672 18.57421)     0.003367\n",
       "road_thailand-latest_6_2       THA  POINT (98.01296 18.34611)     0.004907\n",
       "road_thailand-latest_6_3       THA  POINT (97.98290 18.34809)     0.035866\n",
       "road_thailand-latest_6_4       THA  POINT (98.04236 18.35748)     0.000421\n",
       "road_thailand-latest_6_5       THA  POINT (98.01851 18.34401)     0.107342\n",
       "...                            ...                        ...          ...\n",
       "road_malaysia-latest_14_418    THA  POINT (102.03692 6.11206)     0.539234\n",
       "road_malaysia-latest_14_487    THA  POINT (101.97540 6.03242)     1.408785\n",
       "road_malaysia-latest_14_488    THA  POINT (101.97448 6.02301)     0.060977\n",
       "road_malaysia-latest_14_489    THA  POINT (101.97454 6.02295)     0.043985\n",
       "road_malaysia-latest_14_680    THA  POINT (101.97344 6.02353)     0.015420\n",
       "\n",
       "[71307 rows x 3 columns]"
      ]
     },
     "execution_count": 21,
     "metadata": {},
     "output_type": "execute_result"
    }
   ],
   "source": [
    "nodes_with_tonnage"
   ]
  },
  {
   "cell_type": "code",
   "execution_count": 23,
   "id": "ae308698-a68f-4c12-a7dd-765779aafbb3",
   "metadata": {},
   "outputs": [
    {
     "name": "stderr",
     "output_type": "stream",
     "text": [
      "100%|█████████████████████████████████████████████████████████████████████████████████████████████████████████████████████████████████████████████████████████| 10/10 [00:53<00:00,  5.37s/it]\n"
     ]
    }
   ],
   "source": [
    "leading_partners = od.loc[:, [\"partner_GID_0\", \"volume_tons\"]].groupby(\"partner_GID_0\").sum()\\\n",
    "    .sort_values(\"volume_tons\", ascending=False)[:10].index.values\n",
    "for iso_a3_code in tqdm(leading_partners):\n",
    "    node_tonnage = od.loc[od.partner_GID_0==iso_a3_code, [\"id\", \"volume_tons\"]].groupby(\"id\").sum()\n",
    "    node_tonnage.index = node_tonnage.index.to_series().apply(lambda s: f\"road_{s}\").values\n",
    "    nodes_with_tonnage = nodes.set_index(\"id\").join(node_tonnage, how=\"inner\")\n",
    "    nodes_with_tonnage = nodes_with_tonnage[nodes_with_tonnage.volume_tons != 0]\n",
    "    #print(iso_a3_code, nodes_with_tonnage.volume_tons.max())\n",
    "    f, ax = plt.subplots(figsize=(6, 8))\n",
    "    nodes_with_tonnage.sort_values(\"volume_tons\", ascending=True).plot(\n",
    "        np.log10(nodes_with_tonnage.volume_tons),\n",
    "        legend=True,\n",
    "        ax=ax,\n",
    "        s=4,\n",
    "        alpha=0.4,\n",
    "        legend_kwds={\"label\": \"log10(volume)\"},\n",
    "        cmap=\"viridis\",\n",
    "        vmin=-2,\n",
    "        vmax=2.5,\n",
    "    )\n",
    "    ax.set_title(f\"Trade with {iso_a3_code}: {nodes_with_tonnage.volume_tons.sum():.1E} tons/d\")\n",
    "    ax.set_xlabel(\"Longitude [deg]\")\n",
    "    ax.set_ylabel(\"Latitude [deg]\")\n",
    "    ax.set_xlim(97, 106)\n",
    "    ax.set_ylim(5, 21.5)\n",
    "    f.savefig(f\"plots/node_to_partner/{iso_a3_code}.png\")\n",
    "    plt.close(f)"
   ]
  },
  {
   "cell_type": "code",
   "execution_count": null,
   "id": "0d2b88a1-0937-4a71-940f-7bcc42e28cff",
   "metadata": {},
   "outputs": [],
   "source": [
    "f, ax = plt.subplots(figsize=(14, 6))\n",
    "to_plot = countries.set_index(\"GID_0\").join(country_volume_total)\n",
    "cmap = plt.get_cmap(\"magma_r\")\n",
    "ax.set_xticks(np.linspace(-180, 180, 13))\n",
    "ax.set_yticks([-60, -30, 0, 30, 60])\n",
    "ax.set_ylim(-65, 85)\n",
    "ax.set_xlim(-180, 180)\n",
    "ax.grid(alpha=0.3)\n",
    "ax.set_xlabel(\"Longitude [deg]\")\n",
    "ax.set_ylabel(\"Latitude [deg]\")\n",
    "to_plot.plot(\n",
    "    \"volume_tons\",\n",
    "    ax=ax,\n",
    "    cmap=cmap,\n",
    "    legend=True,\n",
    "    legend_kwds={\n",
    "        \"shrink\": 0.6,\n",
    "        \"label\": \"Flow volume [t/d]\"\n",
    "    },\n",
    ")\n",
    "f.savefig(\"od_countries_linear.png\")"
   ]
  },
  {
   "cell_type": "code",
   "execution_count": null,
   "id": "35c8c6cd-087b-4a1b-9468-dd095f4788bc",
   "metadata": {},
   "outputs": [],
   "source": [
    "total_volume_tonnes = od.volume_tons.sum()\n",
    "by_country = to_plot.loc[:, [\"volume_tons\"]].copy()\n",
    "by_country = by_country.sort_values(\"volume_tons\", ascending=False)\n",
    "by_country = by_country[~by_country.volume_tons.isna()]\n",
    "\n",
    "# country partnerships required for 90% of trade volume\n",
    "important_partners = by_country[by_country.volume_tons.cumsum() / total_volume_tonnes < 0.9]\n",
    "important_partners.head(10)"
   ]
  },
  {
   "cell_type": "code",
   "execution_count": null,
   "id": "20de2f96-6d3a-423b-a7e9-0800c4bdae55",
   "metadata": {},
   "outputs": [],
   "source": [
    "important_partners.plot(kind=\"bar\")"
   ]
  },
  {
   "cell_type": "code",
   "execution_count": null,
   "id": "624dfb9e-612d-46ef-9d6f-d7c742adeaac",
   "metadata": {},
   "outputs": [],
   "source": [
    "f, ax = plt.subplots()\n",
    "ax.hist(od.volume_tons.values, bins=np.logspace(-15, 6, 50))\n",
    "ax.set_xscale(\"log\")\n",
    "ax.set_yscale(\"log\")\n",
    "ax.set_ylabel(\"Frequency\")\n",
    "ax.set_xlabel(\"Trade volume [t / d]\")"
   ]
  },
  {
   "cell_type": "code",
   "execution_count": null,
   "id": "ce369f23-4081-4ab6-b33e-be92b07217a5",
   "metadata": {},
   "outputs": [],
   "source": [
    "f, ax = plt.subplots()\n",
    "ax.hist(od.value_kusd.values, bins=np.logspace(-15, 7, 50))\n",
    "ax.set_xscale(\"log\")\n",
    "ax.set_yscale(\"log\")\n",
    "ax.set_ylabel(\"Frequency\")\n",
    "ax.set_xlabel(\"Trade value [k$ / d]\")"
   ]
  },
  {
   "cell_type": "code",
   "execution_count": null,
   "id": "a64d97ae-c2d6-4f42-a5e7-7741fc9f4d89",
   "metadata": {},
   "outputs": [],
   "source": [
    "# original OD has ~21M pairs\n",
    "# let's drop any pair with a volume of less than x tons\n",
    "threshold_t = 50\n",
    "to_plot = od\n",
    "to_plot = to_plot[to_plot.volume_tons > threshold_t]\n",
    "print(f\"Removing pairs with volume <{threshold_t} tons\\n\")\n",
    "print(\"\\tTotal before\\tTotal after\\tChange\")\n",
    "print(\n",
    "    f\"Volume\\t{od.volume_tons.sum():1.2E}\"\n",
    "    f\"\\t{to_plot.volume_tons.sum():1.2E}\"\n",
    "    f\"\\t{100 * (to_plot.volume_tons.sum() - od.volume_tons.sum()) / to_plot.volume_tons.sum():1.2f}%\"\n",
    ")\n",
    "print(\n",
    "    f\"Value\\t{od.value_kusd.sum():1.2E}\"\n",
    "    f\"\\t{to_plot.value_kusd.sum():1.2E}\"\n",
    "    f\"\\t{100 * (to_plot.value_kusd.sum() - od.value_kusd.sum()) / to_plot.value_kusd.sum():1.2f}%\"\n",
    ")\n",
    "print(f\"\\n{len(od)=}\")\n",
    "print(f\"{len(to_plot)=}\")"
   ]
  },
  {
   "cell_type": "code",
   "execution_count": null,
   "id": "174cb007-5d31-48df-80c1-6846e561bc11",
   "metadata": {},
   "outputs": [],
   "source": [
    "to_plot"
   ]
  },
  {
   "cell_type": "code",
   "execution_count": null,
   "id": "a7404469-0837-4f1f-9f3f-1a911a9db1c7",
   "metadata": {},
   "outputs": [],
   "source": [
    "f, ax = plt.subplots()\n",
    "ax.step(range(len(od)), np.cumsum(od.volume_tons.sort_values()) / np.sum(od.volume_tons))\n",
    "ax.set_ylabel(\"Cumulative fraction of trade volume\")\n",
    "ax.set_xlabel(\"THA road node -> partner country pair\")\n",
    "ax.set_yscale(\"log\")"
   ]
  },
  {
   "cell_type": "code",
   "execution_count": null,
   "id": "bb20bd18-7de9-4726-bf21-75ef1c462ce2",
   "metadata": {},
   "outputs": [],
   "source": [
    "f, ax = plt.subplots()\n",
    "ax.step(range(len(od)), np.cumsum(od.value_kusd.sort_values()) / np.sum(od.value_kusd))\n",
    "ax.set_ylabel(\"Cumulative fraction of trade value\")\n",
    "ax.set_xlabel(\"THA road node -> partner country pair\")\n",
    "ax.set_yscale(\"log\")"
   ]
  }
 ],
 "metadata": {
  "kernelspec": {
   "display_name": "Python 3 (ipykernel)",
   "language": "python",
   "name": "python3"
  },
  "language_info": {
   "codemirror_mode": {
    "name": "ipython",
    "version": 3
   },
   "file_extension": ".py",
   "mimetype": "text/x-python",
   "name": "python",
   "nbconvert_exporter": "python",
   "pygments_lexer": "ipython3",
   "version": "3.10.14"
  }
 },
 "nbformat": 4,
 "nbformat_minor": 5
}
